{
 "cells": [
  {
   "cell_type": "markdown",
   "metadata": {
    "_uuid": "202a12d9e53a60d913f53f289943ddf80d0ab7a2"
   },
   "source": [
    "## NFL Edge Prediction Problem"
   ]
  },
  {
   "cell_type": "markdown",
   "metadata": {
    "_uuid": "f8c6470414e19b06670f58de3f8159733d942716"
   },
   "source": [
    "# Objectives: \n",
    "\n",
    "- **Create a complete graph of NFL games. **Each season the NFL can be thought of as a network between every team in the NFL (nodes) with games connecting the teams (edges). There can be many different \"weights\" or variables attached to each edge, with whether the team won, being the most import. The NFL can also be thought of a direct network with edge direction being point at the home team. <br>\n",
    "- **Set up and test triad logic.**  Adapting social media analysis to the NFL. This idea was first introduced by Professor Leskovec. It equates to if a team beats their opponent, and then that opponent plays another game and beats a different team, then the original team should beat that third team.   <br>\n",
    "- **Run a logistic regression models to compare to.**<br>\n",
    "- **Bring in additional team meta data (offensive).** In the modern NFL, offense has become king. Bringing in the total season offensive statistics should provide some light into how important having a good offense is in the NFL. <br>\n",
    "- **Add in additional logic into the triad/triangle prediction.** <br>"
   ]
  },
  {
   "cell_type": "markdown",
   "metadata": {
    "_uuid": "93df3cee118cf792a47ee9c48ea1cca58fe7f76f"
   },
   "source": [
    "## Presenting the initial data: \n",
    "\n",
    "<b>Data Fields: </b>\n",
    "<b>GameID</b> - A unique identifier for each game of 2009 - 2017 NFL Seasons. <br>\n",
    "<b>Date</b> - Date that the game took place on. <br>\n",
    "<b>home</b> - Abrevation of the home team. <br>\n",
    "<b>away</b> - Abrevation of the away team. <br>\n",
    "<b>homescore</b> - Amount of points that the home team scored during the game. <br>\n",
    "<b>awayscore</b> - Amount of points that the away team scored during the game. <br>\n",
    "<b>Season</b> - Season that the game took place, data has games from the 2009-2017 seasons.<br>\n",
    "<b>homeawaydiff</b> - Difference between the home score and away score. Also called home margin.<br>\n",
    "<b>homekey</b> - Combination of the home team abrevation and season. Used to join additional data sets.<br>\n",
    "<b>awaykey</b> - Combination of the away team abrevation and season. Used to join additional data sets.<br>\n",
    "<b>homewin</b> - Dependent variable that I am trying to predict. Can either be Y/N. Will be N in case of a tie.<br>\n",
    "<b>Combinescore</b> - Total score/points of both teams. <br>\n",
    "<b>predhomewin</b> - Copy of homewin column used to compare the predicition. <br>\n",
    "<b>testededge</b> - Indicator if the edge was tested. <br>\n",
    "<b>year</b> - Year that the game took place on. <br>\n",
    "<b>month</b> - Month that the game took place on. <br>\n",
    "<b>week</b> - Week that the game took place on. <br>\n",
    "<b>nflweek</b> - Date that the game took place on. <br>\n",
    "<b>day</b> - Week day that the game took place on. 3=Thursday, 6=Sunday, 0=Monday <br>\n",
    "<b>joindate</b> - Date that the game took place on. <br>\n"
   ]
  },
  {
   "cell_type": "markdown",
   "metadata": {
    "_uuid": "d0bf8687bcae02977d34bd4d4d1a335d32bf0d0c"
   },
   "source": [
    "2009-2017 game result data was pulled from NFLScrapr GitHub (https://github.com/ryurko/nflscrapR-data/tree/master/legacy_data/season_games). Offensive ranking data was scraped from Pro Football Reference (https://www.pro-football-reference.com/years/2016/) using R and the rvest package within R. Code is attached in the appendix. "
   ]
  },
  {
   "cell_type": "markdown",
   "metadata": {
    "_uuid": "f1aa03d50026908c7c483b07d915d09aad370449"
   },
   "source": [
    "**Importing necessary libraries**"
   ]
  },
  {
   "cell_type": "code",
   "execution_count": 18,
   "metadata": {
    "_cell_guid": "b1076dfc-b9ad-4769-8c92-a6c4dae69d19",
    "_uuid": "8f2839f25d086af736a60e9eeb907d3b93b6e0e5"
   },
   "outputs": [],
   "source": [
    "import warnings\n",
    "warnings.simplefilter(action='ignore', category=FutureWarning)\n",
    "import numpy as np # linear algebra\n",
    "import pandas as pd # data processing\n",
    "import os\n",
    "import networkx as nx\n",
    "import matplotlib.pyplot as plt\n",
    "import sklearn\n",
    "import random\n",
    "import seaborn as sns\n",
    "sns.set()\n",
    "from sklearn.model_selection import cross_val_score\n",
    "from sklearn.tree import DecisionTreeClassifier\n",
    "from sklearn.preprocessing import LabelEncoder\n",
    "from sklearn.model_selection import train_test_split\n",
    "from sklearn import linear_model\n",
    "from sklearn.model_selection import cross_val_score\n",
    "from sklearn.metrics import accuracy_score\n",
    "\n",
    "\n",
    "\n",
    "# to set a style to all graphs\n",
    "plt.style.use('fivethirtyeight')"
   ]
  },
  {
   "cell_type": "markdown",
   "metadata": {
    "_uuid": "7375693b8f1bc634ae7064e45f62c102049688ef"
   },
   "source": [
    "Read in games csv file and add additional columns. Data description is listed above"
   ]
  },
  {
   "cell_type": "code",
   "execution_count": 3,
   "metadata": {
    "_uuid": "5836a0b59b05d564ab6b33d88069e2ef14eab7a7",
    "scrolled": true
   },
   "outputs": [],
   "source": [
    "edgelist=pd.read_csv('nflgamestotal.csv')\n",
    "edgelist['combinedscore']=edgelist['homescore']+edgelist['awayscore']\n",
    "edgelist['predhomewin']=edgelist['homewin']\n",
    "edgelist['tested edge']=0\n",
    "pd.to_datetime(edgelist.date,infer_datetime_format=True)\n",
    "edgelist['year'] = pd.DatetimeIndex(edgelist['date']).year\n",
    "edgelist['month'] = pd.DatetimeIndex(edgelist['date']).month\n",
    "edgelist['week'] = pd.DatetimeIndex(edgelist['date']).week\n",
    "edgelist['nflweek']=edgelist['week']-36\n",
    "edgelist['day']=pd.DatetimeIndex(edgelist['date']).weekday\n",
    "edgelist['joindate']=edgelist['year'].map(str) + edgelist['nflweek'].map(str)\n",
    "edgelist['homewinbi']=np.where(edgelist['homewin']=='Y', 1, 0)\n",
    "#edgelist.home.unique()"
   ]
  },
  {
   "cell_type": "markdown",
   "metadata": {
    "_uuid": "73c11751ef249e690541c6a1e82a60f68e077afc"
   },
   "source": [
    "Bring in abrevation table to join with offensive ranking dataset to match with game result dataset. More than 32 teams due to the franchises switching locations, i.e. St. Louis Rams to LA Rams"
   ]
  },
  {
   "cell_type": "code",
   "execution_count": 22,
   "metadata": {
    "_uuid": "7d7357adf528ac341fe09d72ed4c918ff35863a3",
    "scrolled": true
   },
   "outputs": [
    {
     "data": {
      "text/html": [
       "<div>\n",
       "<style>\n",
       "    .dataframe thead tr:only-child th {\n",
       "        text-align: right;\n",
       "    }\n",
       "\n",
       "    .dataframe thead th {\n",
       "        text-align: left;\n",
       "    }\n",
       "\n",
       "    .dataframe tbody tr th {\n",
       "        vertical-align: top;\n",
       "    }\n",
       "</style>\n",
       "<table border=\"1\" class=\"dataframe\">\n",
       "  <thead>\n",
       "    <tr style=\"text-align: right;\">\n",
       "      <th></th>\n",
       "      <th>Acronym</th>\n",
       "      <th>Franchise</th>\n",
       "    </tr>\n",
       "  </thead>\n",
       "  <tbody>\n",
       "    <tr>\n",
       "      <th>0</th>\n",
       "      <td>ARI</td>\n",
       "      <td>Arizona Cardinals</td>\n",
       "    </tr>\n",
       "    <tr>\n",
       "      <th>1</th>\n",
       "      <td>ATL</td>\n",
       "      <td>Atlanta Falcons</td>\n",
       "    </tr>\n",
       "    <tr>\n",
       "      <th>2</th>\n",
       "      <td>BAL</td>\n",
       "      <td>Baltimore Ravens</td>\n",
       "    </tr>\n",
       "    <tr>\n",
       "      <th>3</th>\n",
       "      <td>BUF</td>\n",
       "      <td>Buffalo Bills</td>\n",
       "    </tr>\n",
       "    <tr>\n",
       "      <th>4</th>\n",
       "      <td>CAR</td>\n",
       "      <td>Carolina Panthers</td>\n",
       "    </tr>\n",
       "    <tr>\n",
       "      <th>5</th>\n",
       "      <td>CHI</td>\n",
       "      <td>Chicago Bears</td>\n",
       "    </tr>\n",
       "    <tr>\n",
       "      <th>6</th>\n",
       "      <td>CIN</td>\n",
       "      <td>Cincinnati Bengals</td>\n",
       "    </tr>\n",
       "    <tr>\n",
       "      <th>7</th>\n",
       "      <td>CLE</td>\n",
       "      <td>Cleveland Browns</td>\n",
       "    </tr>\n",
       "    <tr>\n",
       "      <th>8</th>\n",
       "      <td>DAL</td>\n",
       "      <td>Dallas Cowboys</td>\n",
       "    </tr>\n",
       "    <tr>\n",
       "      <th>9</th>\n",
       "      <td>DEN</td>\n",
       "      <td>Denver Broncos</td>\n",
       "    </tr>\n",
       "    <tr>\n",
       "      <th>10</th>\n",
       "      <td>DET</td>\n",
       "      <td>Detroit Lions</td>\n",
       "    </tr>\n",
       "    <tr>\n",
       "      <th>11</th>\n",
       "      <td>GB</td>\n",
       "      <td>Green Bay Packers</td>\n",
       "    </tr>\n",
       "    <tr>\n",
       "      <th>12</th>\n",
       "      <td>HOU</td>\n",
       "      <td>Houston Texans</td>\n",
       "    </tr>\n",
       "    <tr>\n",
       "      <th>13</th>\n",
       "      <td>IND</td>\n",
       "      <td>Indianapolis Colts</td>\n",
       "    </tr>\n",
       "    <tr>\n",
       "      <th>14</th>\n",
       "      <td>JAX</td>\n",
       "      <td>Jacksonville Jaguars</td>\n",
       "    </tr>\n",
       "    <tr>\n",
       "      <th>15</th>\n",
       "      <td>KC</td>\n",
       "      <td>Kansas City Chiefs</td>\n",
       "    </tr>\n",
       "    <tr>\n",
       "      <th>16</th>\n",
       "      <td>LAC</td>\n",
       "      <td>Los Angeles Chargers</td>\n",
       "    </tr>\n",
       "    <tr>\n",
       "      <th>17</th>\n",
       "      <td>LA</td>\n",
       "      <td>Los Angeles Rams</td>\n",
       "    </tr>\n",
       "    <tr>\n",
       "      <th>18</th>\n",
       "      <td>MIA</td>\n",
       "      <td>Miami Dolphins</td>\n",
       "    </tr>\n",
       "    <tr>\n",
       "      <th>19</th>\n",
       "      <td>MIN</td>\n",
       "      <td>Minnesota Vikings</td>\n",
       "    </tr>\n",
       "    <tr>\n",
       "      <th>20</th>\n",
       "      <td>NE</td>\n",
       "      <td>New England Patriots</td>\n",
       "    </tr>\n",
       "    <tr>\n",
       "      <th>21</th>\n",
       "      <td>NO</td>\n",
       "      <td>New Orleans Saints</td>\n",
       "    </tr>\n",
       "    <tr>\n",
       "      <th>22</th>\n",
       "      <td>NYG</td>\n",
       "      <td>New York Giants</td>\n",
       "    </tr>\n",
       "    <tr>\n",
       "      <th>23</th>\n",
       "      <td>NYJ</td>\n",
       "      <td>New York Jets</td>\n",
       "    </tr>\n",
       "    <tr>\n",
       "      <th>24</th>\n",
       "      <td>OAK</td>\n",
       "      <td>Oakland Raiders</td>\n",
       "    </tr>\n",
       "    <tr>\n",
       "      <th>25</th>\n",
       "      <td>PHI</td>\n",
       "      <td>Philadelphia Eagles</td>\n",
       "    </tr>\n",
       "    <tr>\n",
       "      <th>26</th>\n",
       "      <td>PIT</td>\n",
       "      <td>Pittsburgh Steelers</td>\n",
       "    </tr>\n",
       "    <tr>\n",
       "      <th>27</th>\n",
       "      <td>SEA</td>\n",
       "      <td>Seattle Seahawks</td>\n",
       "    </tr>\n",
       "    <tr>\n",
       "      <th>28</th>\n",
       "      <td>SD</td>\n",
       "      <td>San Diego Chargers</td>\n",
       "    </tr>\n",
       "    <tr>\n",
       "      <th>29</th>\n",
       "      <td>STL</td>\n",
       "      <td>St. Louis Rams</td>\n",
       "    </tr>\n",
       "    <tr>\n",
       "      <th>30</th>\n",
       "      <td>SF</td>\n",
       "      <td>San Francisco 49ers</td>\n",
       "    </tr>\n",
       "    <tr>\n",
       "      <th>31</th>\n",
       "      <td>TB</td>\n",
       "      <td>Tampa Bay Buccaneers</td>\n",
       "    </tr>\n",
       "    <tr>\n",
       "      <th>32</th>\n",
       "      <td>TEN</td>\n",
       "      <td>Tennessee Titans</td>\n",
       "    </tr>\n",
       "    <tr>\n",
       "      <th>33</th>\n",
       "      <td>WAS</td>\n",
       "      <td>Washington Redskins</td>\n",
       "    </tr>\n",
       "  </tbody>\n",
       "</table>\n",
       "</div>"
      ],
      "text/plain": [
       "   Acronym             Franchise\n",
       "0      ARI     Arizona Cardinals\n",
       "1      ATL       Atlanta Falcons\n",
       "2      BAL      Baltimore Ravens\n",
       "3      BUF         Buffalo Bills\n",
       "4      CAR     Carolina Panthers\n",
       "5      CHI         Chicago Bears\n",
       "6      CIN    Cincinnati Bengals\n",
       "7      CLE      Cleveland Browns\n",
       "8      DAL        Dallas Cowboys\n",
       "9      DEN        Denver Broncos\n",
       "10     DET         Detroit Lions\n",
       "11      GB     Green Bay Packers\n",
       "12     HOU        Houston Texans\n",
       "13     IND    Indianapolis Colts\n",
       "14     JAX  Jacksonville Jaguars\n",
       "15      KC    Kansas City Chiefs\n",
       "16     LAC  Los Angeles Chargers\n",
       "17      LA      Los Angeles Rams\n",
       "18     MIA        Miami Dolphins\n",
       "19     MIN     Minnesota Vikings\n",
       "20      NE  New England Patriots\n",
       "21      NO    New Orleans Saints\n",
       "22     NYG       New York Giants\n",
       "23     NYJ         New York Jets\n",
       "24     OAK       Oakland Raiders\n",
       "25     PHI   Philadelphia Eagles\n",
       "26     PIT   Pittsburgh Steelers\n",
       "27     SEA      Seattle Seahawks\n",
       "28      SD    San Diego Chargers\n",
       "29     STL        St. Louis Rams\n",
       "30      SF   San Francisco 49ers\n",
       "31      TB  Tampa Bay Buccaneers\n",
       "32     TEN      Tennessee Titans\n",
       "33     WAS   Washington Redskins"
      ]
     },
     "execution_count": 22,
     "metadata": {},
     "output_type": "execute_result"
    }
   ],
   "source": [
    "abr=pd.read_csv('nflacronyms.csv', delimiter = '\\t')\n",
    "abr.head()\n",
    "abr.drop(['Unnamed: 2','Unnamed: 3','Unnamed: 4','Unnamed: 5','Unnamed: 6'],axis=1)"
   ]
  },
  {
   "cell_type": "markdown",
   "metadata": {
    "_uuid": "5a47dfda84250fa4ca40eb4f074dc7ae69ce3b5a"
   },
   "source": [
    "Bringing in offensive rank data. The rank number was sorted amount of points scored in a total season, i.e. #3 means that team scored the third most points in that season."
   ]
  },
  {
   "cell_type": "code",
   "execution_count": 23,
   "metadata": {
    "_uuid": "469a2187a059515922b4f5b58bf68da312a44210",
    "scrolled": true
   },
   "outputs": [
    {
     "data": {
      "text/html": [
       "<div>\n",
       "<style>\n",
       "    .dataframe thead tr:only-child th {\n",
       "        text-align: right;\n",
       "    }\n",
       "\n",
       "    .dataframe thead th {\n",
       "        text-align: left;\n",
       "    }\n",
       "\n",
       "    .dataframe tbody tr th {\n",
       "        vertical-align: top;\n",
       "    }\n",
       "</style>\n",
       "<table border=\"1\" class=\"dataframe\">\n",
       "  <thead>\n",
       "    <tr style=\"text-align: right;\">\n",
       "      <th></th>\n",
       "      <th>OffRk</th>\n",
       "      <th>Tm</th>\n",
       "      <th>G</th>\n",
       "      <th>PF</th>\n",
       "      <th>Yds</th>\n",
       "      <th>Ply</th>\n",
       "      <th>Y/P</th>\n",
       "      <th>TO</th>\n",
       "      <th>FL</th>\n",
       "      <th>1st</th>\n",
       "      <th>...</th>\n",
       "      <th>EXP</th>\n",
       "      <th>season</th>\n",
       "      <th>Acronym</th>\n",
       "      <th>Franchise</th>\n",
       "      <th>Unnamed: 2</th>\n",
       "      <th>Unnamed: 3</th>\n",
       "      <th>Unnamed: 4</th>\n",
       "      <th>Unnamed: 5</th>\n",
       "      <th>Unnamed: 6</th>\n",
       "      <th>offensivekey</th>\n",
       "    </tr>\n",
       "  </thead>\n",
       "  <tbody>\n",
       "    <tr>\n",
       "      <th>0</th>\n",
       "      <td>1.0</td>\n",
       "      <td>New Orleans Saints</td>\n",
       "      <td>16.0</td>\n",
       "      <td>510.0</td>\n",
       "      <td>6461.0</td>\n",
       "      <td>1032.0</td>\n",
       "      <td>6.3</td>\n",
       "      <td>28.0</td>\n",
       "      <td>16.0</td>\n",
       "      <td>348.0</td>\n",
       "      <td>...</td>\n",
       "      <td>170.92</td>\n",
       "      <td>2009</td>\n",
       "      <td>NO</td>\n",
       "      <td>New Orleans Saints</td>\n",
       "      <td>NaN</td>\n",
       "      <td>NaN</td>\n",
       "      <td>NaN</td>\n",
       "      <td>NaN</td>\n",
       "      <td>NaN</td>\n",
       "      <td>NO2009</td>\n",
       "    </tr>\n",
       "    <tr>\n",
       "      <th>1</th>\n",
       "      <td>11.0</td>\n",
       "      <td>New Orleans Saints</td>\n",
       "      <td>16.0</td>\n",
       "      <td>384.0</td>\n",
       "      <td>5960.0</td>\n",
       "      <td>1067.0</td>\n",
       "      <td>5.6</td>\n",
       "      <td>31.0</td>\n",
       "      <td>9.0</td>\n",
       "      <td>351.0</td>\n",
       "      <td>...</td>\n",
       "      <td>98.07</td>\n",
       "      <td>2010</td>\n",
       "      <td>NO</td>\n",
       "      <td>New Orleans Saints</td>\n",
       "      <td>NaN</td>\n",
       "      <td>NaN</td>\n",
       "      <td>NaN</td>\n",
       "      <td>NaN</td>\n",
       "      <td>NaN</td>\n",
       "      <td>NO2010</td>\n",
       "    </tr>\n",
       "    <tr>\n",
       "      <th>2</th>\n",
       "      <td>2.0</td>\n",
       "      <td>New Orleans Saints</td>\n",
       "      <td>16.0</td>\n",
       "      <td>547.0</td>\n",
       "      <td>7474.0</td>\n",
       "      <td>1117.0</td>\n",
       "      <td>6.7</td>\n",
       "      <td>19.0</td>\n",
       "      <td>5.0</td>\n",
       "      <td>416.0</td>\n",
       "      <td>...</td>\n",
       "      <td>330.95</td>\n",
       "      <td>2011</td>\n",
       "      <td>NO</td>\n",
       "      <td>New Orleans Saints</td>\n",
       "      <td>NaN</td>\n",
       "      <td>NaN</td>\n",
       "      <td>NaN</td>\n",
       "      <td>NaN</td>\n",
       "      <td>NaN</td>\n",
       "      <td>NO2011</td>\n",
       "    </tr>\n",
       "    <tr>\n",
       "      <th>3</th>\n",
       "      <td>3.0</td>\n",
       "      <td>New Orleans Saints</td>\n",
       "      <td>16.0</td>\n",
       "      <td>461.0</td>\n",
       "      <td>6574.0</td>\n",
       "      <td>1067.0</td>\n",
       "      <td>6.2</td>\n",
       "      <td>24.0</td>\n",
       "      <td>5.0</td>\n",
       "      <td>352.0</td>\n",
       "      <td>...</td>\n",
       "      <td>142.90</td>\n",
       "      <td>2012</td>\n",
       "      <td>NO</td>\n",
       "      <td>New Orleans Saints</td>\n",
       "      <td>NaN</td>\n",
       "      <td>NaN</td>\n",
       "      <td>NaN</td>\n",
       "      <td>NaN</td>\n",
       "      <td>NaN</td>\n",
       "      <td>NO2012</td>\n",
       "    </tr>\n",
       "    <tr>\n",
       "      <th>4</th>\n",
       "      <td>10.0</td>\n",
       "      <td>New Orleans Saints</td>\n",
       "      <td>16.0</td>\n",
       "      <td>414.0</td>\n",
       "      <td>6391.0</td>\n",
       "      <td>1079.0</td>\n",
       "      <td>5.9</td>\n",
       "      <td>19.0</td>\n",
       "      <td>7.0</td>\n",
       "      <td>359.0</td>\n",
       "      <td>...</td>\n",
       "      <td>152.24</td>\n",
       "      <td>2013</td>\n",
       "      <td>NO</td>\n",
       "      <td>New Orleans Saints</td>\n",
       "      <td>NaN</td>\n",
       "      <td>NaN</td>\n",
       "      <td>NaN</td>\n",
       "      <td>NaN</td>\n",
       "      <td>NaN</td>\n",
       "      <td>NO2013</td>\n",
       "    </tr>\n",
       "  </tbody>\n",
       "</table>\n",
       "<p>5 rows × 37 columns</p>\n",
       "</div>"
      ],
      "text/plain": [
       "   OffRk                  Tm     G     PF     Yds     Ply  Y/P    TO    FL  \\\n",
       "0    1.0  New Orleans Saints  16.0  510.0  6461.0  1032.0  6.3  28.0  16.0   \n",
       "1   11.0  New Orleans Saints  16.0  384.0  5960.0  1067.0  5.6  31.0   9.0   \n",
       "2    2.0  New Orleans Saints  16.0  547.0  7474.0  1117.0  6.7  19.0   5.0   \n",
       "3    3.0  New Orleans Saints  16.0  461.0  6574.0  1067.0  6.2  24.0   5.0   \n",
       "4   10.0  New Orleans Saints  16.0  414.0  6391.0  1079.0  5.9  19.0   7.0   \n",
       "\n",
       "     1st      ...          EXP  season  Acronym           Franchise  \\\n",
       "0  348.0      ...       170.92    2009       NO  New Orleans Saints   \n",
       "1  351.0      ...        98.07    2010       NO  New Orleans Saints   \n",
       "2  416.0      ...       330.95    2011       NO  New Orleans Saints   \n",
       "3  352.0      ...       142.90    2012       NO  New Orleans Saints   \n",
       "4  359.0      ...       152.24    2013       NO  New Orleans Saints   \n",
       "\n",
       "   Unnamed: 2  Unnamed: 3  Unnamed: 4  Unnamed: 5  Unnamed: 6  offensivekey  \n",
       "0         NaN         NaN         NaN         NaN         NaN        NO2009  \n",
       "1         NaN         NaN         NaN         NaN         NaN        NO2010  \n",
       "2         NaN         NaN         NaN         NaN         NaN        NO2011  \n",
       "3         NaN         NaN         NaN         NaN         NaN        NO2012  \n",
       "4         NaN         NaN         NaN         NaN         NaN        NO2013  \n",
       "\n",
       "[5 rows x 37 columns]"
      ]
     },
     "execution_count": 23,
     "metadata": {},
     "output_type": "execute_result"
    }
   ],
   "source": [
    "offensive=pd.read_csv('nfloffensivetotal.csv')\n",
    "offensive=pd.merge(offensive, abr, left_on = 'Tm', right_on = 'Franchise')\n",
    "offensive['offensivekey']=offensive['Acronym'].map(str)+offensive['season'].map(str)\n",
    "offrank = offensive[['OffRk', 'offensivekey']].copy()\n",
    "offensive.head()"
   ]
  },
  {
   "cell_type": "markdown",
   "metadata": {
    "_uuid": "e652f57febb9397e56d8fc73bbbaeb90ee274a3c"
   },
   "source": [
    "Joining edgelist dataframe (game results) with offensive dataframe (offensive ranks) twice to give offensive rankings for both home and away teams. "
   ]
  },
  {
   "cell_type": "code",
   "execution_count": 24,
   "metadata": {
    "_uuid": "5094457cb1b4e341635b9c85d9aed9752bffc330"
   },
   "outputs": [
    {
     "data": {
      "text/html": [
       "<div>\n",
       "<style>\n",
       "    .dataframe thead tr:only-child th {\n",
       "        text-align: right;\n",
       "    }\n",
       "\n",
       "    .dataframe thead th {\n",
       "        text-align: left;\n",
       "    }\n",
       "\n",
       "    .dataframe tbody tr th {\n",
       "        vertical-align: top;\n",
       "    }\n",
       "</style>\n",
       "<table border=\"1\" class=\"dataframe\">\n",
       "  <thead>\n",
       "    <tr style=\"text-align: right;\">\n",
       "      <th></th>\n",
       "      <th>GameID</th>\n",
       "      <th>date</th>\n",
       "      <th>home</th>\n",
       "      <th>away</th>\n",
       "      <th>homescore</th>\n",
       "      <th>awayscore</th>\n",
       "      <th>Season</th>\n",
       "      <th>homeawaydiff</th>\n",
       "      <th>homekey</th>\n",
       "      <th>awaykey</th>\n",
       "      <th>...</th>\n",
       "      <th>month</th>\n",
       "      <th>week</th>\n",
       "      <th>nflweek</th>\n",
       "      <th>day</th>\n",
       "      <th>joindate</th>\n",
       "      <th>homewinbi</th>\n",
       "      <th>OffRk_x</th>\n",
       "      <th>offensivekey_x</th>\n",
       "      <th>awayoffrank</th>\n",
       "      <th>awayoffkey</th>\n",
       "    </tr>\n",
       "  </thead>\n",
       "  <tbody>\n",
       "    <tr>\n",
       "      <th>0</th>\n",
       "      <td>2009091000</td>\n",
       "      <td>2009-09-10</td>\n",
       "      <td>PIT</td>\n",
       "      <td>TEN</td>\n",
       "      <td>13</td>\n",
       "      <td>10</td>\n",
       "      <td>2009</td>\n",
       "      <td>3</td>\n",
       "      <td>PIT2009</td>\n",
       "      <td>TEN2009</td>\n",
       "      <td>...</td>\n",
       "      <td>9</td>\n",
       "      <td>37</td>\n",
       "      <td>1</td>\n",
       "      <td>3</td>\n",
       "      <td>20091</td>\n",
       "      <td>1</td>\n",
       "      <td>12.0</td>\n",
       "      <td>PIT2009</td>\n",
       "      <td>16.0</td>\n",
       "      <td>TEN2009</td>\n",
       "    </tr>\n",
       "    <tr>\n",
       "      <th>1</th>\n",
       "      <td>2009112300</td>\n",
       "      <td>2009-11-23</td>\n",
       "      <td>HOU</td>\n",
       "      <td>TEN</td>\n",
       "      <td>17</td>\n",
       "      <td>20</td>\n",
       "      <td>2009</td>\n",
       "      <td>-3</td>\n",
       "      <td>HOU2009</td>\n",
       "      <td>TEN2009</td>\n",
       "      <td>...</td>\n",
       "      <td>11</td>\n",
       "      <td>48</td>\n",
       "      <td>12</td>\n",
       "      <td>0</td>\n",
       "      <td>200912</td>\n",
       "      <td>0</td>\n",
       "      <td>10.0</td>\n",
       "      <td>HOU2009</td>\n",
       "      <td>16.0</td>\n",
       "      <td>TEN2009</td>\n",
       "    </tr>\n",
       "    <tr>\n",
       "      <th>2</th>\n",
       "      <td>2009120604</td>\n",
       "      <td>2009-12-06</td>\n",
       "      <td>IND</td>\n",
       "      <td>TEN</td>\n",
       "      <td>27</td>\n",
       "      <td>17</td>\n",
       "      <td>2009</td>\n",
       "      <td>10</td>\n",
       "      <td>IND2009</td>\n",
       "      <td>TEN2009</td>\n",
       "      <td>...</td>\n",
       "      <td>12</td>\n",
       "      <td>49</td>\n",
       "      <td>13</td>\n",
       "      <td>6</td>\n",
       "      <td>200913</td>\n",
       "      <td>1</td>\n",
       "      <td>7.0</td>\n",
       "      <td>IND2009</td>\n",
       "      <td>16.0</td>\n",
       "      <td>TEN2009</td>\n",
       "    </tr>\n",
       "    <tr>\n",
       "      <th>3</th>\n",
       "      <td>2010010315</td>\n",
       "      <td>2010-01-03</td>\n",
       "      <td>SEA</td>\n",
       "      <td>TEN</td>\n",
       "      <td>13</td>\n",
       "      <td>17</td>\n",
       "      <td>2009</td>\n",
       "      <td>-4</td>\n",
       "      <td>SEA2009</td>\n",
       "      <td>TEN2009</td>\n",
       "      <td>...</td>\n",
       "      <td>1</td>\n",
       "      <td>53</td>\n",
       "      <td>17</td>\n",
       "      <td>6</td>\n",
       "      <td>201017</td>\n",
       "      <td>0</td>\n",
       "      <td>25.0</td>\n",
       "      <td>SEA2009</td>\n",
       "      <td>16.0</td>\n",
       "      <td>TEN2009</td>\n",
       "    </tr>\n",
       "    <tr>\n",
       "      <th>4</th>\n",
       "      <td>2009101810</td>\n",
       "      <td>2009-10-18</td>\n",
       "      <td>NE</td>\n",
       "      <td>TEN</td>\n",
       "      <td>59</td>\n",
       "      <td>0</td>\n",
       "      <td>2009</td>\n",
       "      <td>59</td>\n",
       "      <td>NE2009</td>\n",
       "      <td>TEN2009</td>\n",
       "      <td>...</td>\n",
       "      <td>10</td>\n",
       "      <td>42</td>\n",
       "      <td>6</td>\n",
       "      <td>6</td>\n",
       "      <td>20096</td>\n",
       "      <td>1</td>\n",
       "      <td>6.0</td>\n",
       "      <td>NE2009</td>\n",
       "      <td>16.0</td>\n",
       "      <td>TEN2009</td>\n",
       "    </tr>\n",
       "  </tbody>\n",
       "</table>\n",
       "<p>5 rows × 25 columns</p>\n",
       "</div>"
      ],
      "text/plain": [
       "       GameID        date home away  homescore  awayscore  Season  \\\n",
       "0  2009091000  2009-09-10  PIT  TEN         13         10    2009   \n",
       "1  2009112300  2009-11-23  HOU  TEN         17         20    2009   \n",
       "2  2009120604  2009-12-06  IND  TEN         27         17    2009   \n",
       "3  2010010315  2010-01-03  SEA  TEN         13         17    2009   \n",
       "4  2009101810  2009-10-18   NE  TEN         59          0    2009   \n",
       "\n",
       "   homeawaydiff  homekey  awaykey    ...     month  week nflweek  day  \\\n",
       "0             3  PIT2009  TEN2009    ...         9    37       1    3   \n",
       "1            -3  HOU2009  TEN2009    ...        11    48      12    0   \n",
       "2            10  IND2009  TEN2009    ...        12    49      13    6   \n",
       "3            -4  SEA2009  TEN2009    ...         1    53      17    6   \n",
       "4            59   NE2009  TEN2009    ...        10    42       6    6   \n",
       "\n",
       "   joindate  homewinbi  OffRk_x  offensivekey_x  awayoffrank awayoffkey  \n",
       "0     20091          1     12.0         PIT2009         16.0    TEN2009  \n",
       "1    200912          0     10.0         HOU2009         16.0    TEN2009  \n",
       "2    200913          1      7.0         IND2009         16.0    TEN2009  \n",
       "3    201017          0     25.0         SEA2009         16.0    TEN2009  \n",
       "4     20096          1      6.0          NE2009         16.0    TEN2009  \n",
       "\n",
       "[5 rows x 25 columns]"
      ]
     },
     "execution_count": 24,
     "metadata": {},
     "output_type": "execute_result"
    }
   ],
   "source": [
    "edgelist=pd.merge(edgelist, offrank, left_on = 'homekey', right_on = 'offensivekey')\n",
    "#edgelist.drop(columns=['OffRk_y', 'offensivekey_y'])\n",
    "edgelist=pd.merge(edgelist, offrank, left_on = 'awaykey', right_on = 'offensivekey')\n",
    "edgelist.columns = ['awayoffrank' if x=='OffRk_y' else x for x in edgelist.columns]\n",
    "edgelist.columns = ['awayoffkey' if x=='offensivekey_y' else x for x in edgelist.columns]\n",
    "edgelist.head()"
   ]
  },
  {
   "cell_type": "code",
   "execution_count": 25,
   "metadata": {
    "_kg_hide-output": true,
    "_uuid": "9c98b718de3d898cc5cb88ea9f37be32e9a1096e"
   },
   "outputs": [
    {
     "data": {
      "text/plain": [
       "(2191, 25)"
      ]
     },
     "execution_count": 25,
     "metadata": {},
     "output_type": "execute_result"
    }
   ],
   "source": [
    "#renaming more columns\n",
    "edgelist.columns = ['homeoffrank' if x=='OffRk_x' else x for x in edgelist.columns]\n",
    "edgelist.columns = ['homeoffkey' if x=='offensivekey_x' else x for x in edgelist.columns]\n",
    "edgelist.shape"
   ]
  },
  {
   "cell_type": "code",
   "execution_count": 26,
   "metadata": {
    "_uuid": "9c8f5fd35a7c1ce336612bbff783690b5e82e953"
   },
   "outputs": [],
   "source": [
    "#print out used for testing\n",
    "edgelist.to_csv(\"edgelistfinal.csv\")"
   ]
  },
  {
   "cell_type": "code",
   "execution_count": 27,
   "metadata": {
    "_uuid": "7e948076398e180df0876907a2e946932c8f5878"
   },
   "outputs": [],
   "source": [
    "#Filter for edgelist for 2017 for testing purposes\n",
    "edgelist2017=edgelist[(edgelist.Season == 2017)]"
   ]
  },
  {
   "cell_type": "markdown",
   "metadata": {
    "_uuid": "92623076c4990c6a20a3249aa10a2e77c0873b0f"
   },
   "source": [
    "Creating a directed graph/network of edgelist dataframe (game results). Edges will from the away team to home team. Other data fields will be embedded into the edges."
   ]
  },
  {
   "cell_type": "code",
   "execution_count": 28,
   "metadata": {
    "_uuid": "e14f65e82c03b9ec0704eb6e5b1d5dd5ada92c2f",
    "scrolled": true
   },
   "outputs": [
    {
     "name": "stdout",
     "output_type": "stream",
     "text": [
      "Name: \n",
      "Type: DiGraph\n",
      "Number of nodes: 34\n",
      "Number of edges: 990\n",
      "Average in degree:  29.1176\n",
      "Average out degree:  29.1176\n"
     ]
    }
   ],
   "source": [
    "C=nx.from_pandas_edgelist(edgelist,'away','home',edge_attr=True,create_using=nx.DiGraph())\n",
    "#basic info\n",
    "print(nx.info(C))"
   ]
  },
  {
   "cell_type": "code",
   "execution_count": 29,
   "metadata": {
    "_uuid": "dce2705c381c2971403d1c776ae468bd4a3736a3"
   },
   "outputs": [],
   "source": [
    "#Filter edge list for 2017 Carolina Panthers season. Used for graph drawing\n",
    "edgelistcarolina2017=edgelist[(edgelist.Season == 2017) &(edgelist.home == 'CAR') |(edgelist.Season == 2017) & (edgelist.away == 'CAR')|\n",
    "                             (edgelist.Season == 2017) &(edgelist.home == 'ATL') |(edgelist.Season == 2017) & (edgelist.away == 'ATL')]"
   ]
  },
  {
   "cell_type": "code",
   "execution_count": 30,
   "metadata": {
    "_uuid": "03551112190b56cd2fe6d48b5556b2ef663080b2"
   },
   "outputs": [],
   "source": [
    "#creating new network for graph drawing only\n",
    "Car=nx.from_pandas_edgelist(edgelistcarolina2017,'away','home',edge_attr=True,create_using=nx.DiGraph())\n",
    "#basic info\n",
    "#print(nx.info(C))"
   ]
  },
  {
   "cell_type": "code",
   "execution_count": null,
   "metadata": {
    "_uuid": "7a67f59956375efdf68d00be3b8741772b00182f"
   },
   "outputs": [],
   "source": [
    "#test to make sure extra features get embedded into the edge\n",
    "C['CAR']['ATL']"
   ]
  },
  {
   "cell_type": "markdown",
   "metadata": {
    "_uuid": "5005ed4711644dd1b97d5f2ebcd395d352a95e0d"
   },
   "source": [
    "Exploratory Data Analysis"
   ]
  },
  {
   "cell_type": "code",
   "execution_count": 31,
   "metadata": {
    "_uuid": "bb01690d6bf78b2e541910cb89dcd881f8db0847"
   },
   "outputs": [
    {
     "data": {
      "text/plain": [
       "Text(0.5,1,'Home Team Wins')"
      ]
     },
     "execution_count": 31,
     "metadata": {},
     "output_type": "execute_result"
    },
    {
     "data": {
      "image/png": "[encoded data removed]",
      "text/plain": [
       "<matplotlib.figure.Figure at 0x276ec46bc50>"
      ]
     },
     "metadata": {},
     "output_type": "display_data"
    }
   ],
   "source": [
    "sns.countplot(x='homewin', data=edgelist).set_title(\"Home Team Wins\")"
   ]
  },
  {
   "cell_type": "code",
   "execution_count": 32,
   "metadata": {
    "_uuid": "a2bdf01c11efd504dcab2cedb15e1ed2c2a2963d"
   },
   "outputs": [
    {
     "data": {
      "text/plain": [
       "0.54966887417218546"
      ]
     },
     "execution_count": 32,
     "metadata": {},
     "output_type": "execute_result"
    }
   ],
   "source": [
    "(edgelist[edgelist[\"homewinbi\"]==1].sum()[\"homewinbi\"])/(edgelist[(edgelist[\"homewinbi\"]>-1)].count()[\"homewinbi\"])\n",
    "(edgelist[(edgelist[\"homewinbi\"]==1 )& (edgelist[\"day\"]==3)].sum()[\"homewinbi\"])/(edgelist[(edgelist[\"homewinbi\"]>-1 )& (edgelist[\"day\"]==3)].count()[\"homewinbi\"])\n",
    "(edgelist[(edgelist[\"homewinbi\"]==1 )& (edgelist[\"day\"]==6)].sum()[\"homewinbi\"])/(edgelist[(edgelist[\"homewinbi\"]>-1 )& (edgelist[\"day\"]==6)].count()[\"homewinbi\"])\n",
    "(edgelist[(edgelist[\"homewinbi\"]==1 )& (edgelist[\"day\"]==0)].sum()[\"homewinbi\"])/(edgelist[(edgelist[\"homewinbi\"]>-1 )& (edgelist[\"day\"]==0)].count()[\"homewinbi\"])"
   ]
  },
  {
   "cell_type": "code",
   "execution_count": 33,
   "metadata": {
    "_uuid": "191801cee8756b60d180a281e239116345317be4"
   },
   "outputs": [
    {
     "data": {
      "text/plain": [
       "0.7142857142857143"
      ]
     },
     "execution_count": 33,
     "metadata": {},
     "output_type": "execute_result"
    }
   ],
   "source": [
    "(edgelist[(edgelist[\"homewinbi\"]==1 )& (edgelist[\"day\"]==3) & (edgelist['awayoffrank']-edgelist['homeoffrank']>-5)].sum()[\"homewinbi\"])/(edgelist[(edgelist[\"homewinbi\"]>-1 )& (edgelist[\"day\"]==3)& (edgelist['awayoffrank']-edgelist['homeoffrank']>-5)].count()[\"homewinbi\"])"
   ]
  },
  {
   "cell_type": "code",
   "execution_count": 34,
   "metadata": {
    "_uuid": "2d69d4df37a243a209eb87dc13afff6c8b074e87"
   },
   "outputs": [
    {
     "data": {
      "text/plain": [
       "0.765625"
      ]
     },
     "execution_count": 34,
     "metadata": {},
     "output_type": "execute_result"
    }
   ],
   "source": [
    "(edgelist[(edgelist[\"homewinbi\"]==1 )& (edgelist[\"day\"]==3) & (edgelist['awayoffrank']-edgelist['homeoffrank']>0)].sum()[\"homewinbi\"])/(edgelist[(edgelist[\"homewinbi\"]>-1 )& (edgelist[\"day\"]==3)& (edgelist['awayoffrank']-edgelist['homeoffrank']>0)].count()[\"homewinbi\"])"
   ]
  },
  {
   "cell_type": "code",
   "execution_count": 35,
   "metadata": {
    "_uuid": "ebd35d06654cd4fe23a1317c3853388481e1cca1"
   },
   "outputs": [
    {
     "data": {
      "text/plain": [
       "0.85106382978723405"
      ]
     },
     "execution_count": 35,
     "metadata": {},
     "output_type": "execute_result"
    }
   ],
   "source": [
    "(edgelist[(edgelist[\"homewinbi\"]==1 )& (edgelist[\"day\"]==3) & (edgelist['awayoffrank']-edgelist['homeoffrank']>5)].sum()[\"homewinbi\"])/(edgelist[(edgelist[\"homewinbi\"]>-1 )& (edgelist[\"day\"]==3)& (edgelist['awayoffrank']-edgelist['homeoffrank']>5)].count()[\"homewinbi\"])"
   ]
  },
  {
   "cell_type": "code",
   "execution_count": 36,
   "metadata": {
    "_uuid": "8ecbe2909f8aa18551982e8a64ca1e571239b57b"
   },
   "outputs": [
    {
     "data": {
      "text/plain": [
       "0.875"
      ]
     },
     "execution_count": 36,
     "metadata": {},
     "output_type": "execute_result"
    }
   ],
   "source": [
    "(edgelist[(edgelist[\"homewinbi\"]==1 )& (edgelist[\"day\"]==3) & (edgelist['awayoffrank']-edgelist['homeoffrank']>10)].sum()[\"homewinbi\"])/(edgelist[(edgelist[\"homewinbi\"]>-1 )& (edgelist[\"day\"]==3)& (edgelist['awayoffrank']-edgelist['homeoffrank']>10)].count()[\"homewinbi\"])"
   ]
  },
  {
   "cell_type": "code",
   "execution_count": 37,
   "metadata": {
    "_kg_hide-output": true,
    "_uuid": "f145e57be7649dc40accc35c14fc7d03d53aa074"
   },
   "outputs": [
    {
     "data": {
      "text/plain": [
       "Text(0.5,1,'Home Win Percentage based on Day of Week')"
      ]
     },
     "execution_count": 37,
     "metadata": {},
     "output_type": "execute_result"
    },
    {
     "data": {
      "image/png": "[encoded data removed]",
      "text/plain": [
       "<matplotlib.figure.Figure at 0x276f39eb9e8>"
      ]
     },
     "metadata": {},
     "output_type": "display_data"
    }
   ],
   "source": [
    "x1=['Overall','Thursday','Sunday', 'Monday']\n",
    "y1= [0.565,0.582,0.568,0.549]\n",
    "g=sns.barplot(x=x1, y=y1)\n",
    "g.set(ylim=(0.4, .6))\n",
    "g.set_title(\"Home Win Percentage based on Day of Week\")"
   ]
  },
  {
   "cell_type": "code",
   "execution_count": 38,
   "metadata": {
    "_uuid": "b7731782394a88b519556f7ea5f1c2c57fa168d3"
   },
   "outputs": [
    {
     "data": {
      "text/plain": [
       "Text(0.5,1,'Home Win Percentage based on Offensive Rank Difference')"
      ]
     },
     "execution_count": 38,
     "metadata": {},
     "output_type": "execute_result"
    },
    {
     "data": {
      "image/png": "[encoded data removed]",
      "text/plain": [
       "<matplotlib.figure.Figure at 0x276f37555f8>"
      ]
     },
     "metadata": {},
     "output_type": "display_data"
    }
   ],
   "source": [
    "x1=['-5','0','5','10*']\n",
    "y1= [0.714,0.765,0.851,0.875]\n",
    "g=sns.barplot(x=x1, y=y1)\n",
    "g.set(ylim=(0.4, 1))\n",
    "g.set_title(\"Home Win Percentage based on Offensive Rank Difference\")"
   ]
  },
  {
   "cell_type": "code",
   "execution_count": 39,
   "metadata": {
    "_uuid": "c4cc02c0ca706db0ce7c281abf6ca0be5636d587"
   },
   "outputs": [
    {
     "data": {
      "image/png": "[encoded data removed]",
      "text/plain": [
       "<matplotlib.figure.Figure at 0x276f39bbef0>"
      ]
     },
     "metadata": {},
     "output_type": "display_data"
    }
   ],
   "source": [
    "sns.factorplot(x='homeoffrank', col='homewin', kind='count', data=edgelist);\n",
    "#top offensive rank has a high number of wins"
   ]
  },
  {
   "cell_type": "code",
   "execution_count": 40,
   "metadata": {
    "_uuid": "e978ef4ae59594c906dba1cf6e0c352389942e61"
   },
   "outputs": [
    {
     "data": {
      "image/png": "[encoded data removed]",
      "text/plain": [
       "<matplotlib.figure.Figure at 0x276f428c320>"
      ]
     },
     "metadata": {},
     "output_type": "display_data"
    },
    {
     "data": {
      "text/plain": [
       "count    2191.000000\n",
       "mean        2.460977\n",
       "std        14.848957\n",
       "min       -45.000000\n",
       "25%        -7.000000\n",
       "50%         3.000000\n",
       "75%        11.000000\n",
       "max        59.000000\n",
       "Name: homeawaydiff, dtype: float64"
      ]
     },
     "execution_count": 40,
     "metadata": {},
     "output_type": "execute_result"
    }
   ],
   "source": [
    "sns.distplot(edgelist['homeawaydiff'])\n",
    "plt.show()\n",
    "edgelist['homeawaydiff'].describe()"
   ]
  },
  {
   "cell_type": "code",
   "execution_count": 41,
   "metadata": {
    "_uuid": "89120b3bb86a6c918ca4d4a0b471c9484c803413"
   },
   "outputs": [
    {
     "data": {
      "image/png": "[encoded data removed]",
      "text/plain": [
       "<matplotlib.figure.Figure at 0x276f41fcc50>"
      ]
     },
     "metadata": {},
     "output_type": "display_data"
    },
    {
     "data": {
      "text/plain": [
       "count    2191.000000\n",
       "mean       44.887266\n",
       "std        13.839345\n",
       "min         6.000000\n",
       "25%        35.000000\n",
       "50%        44.000000\n",
       "75%        54.000000\n",
       "max       101.000000\n",
       "Name: combinedscore, dtype: float64"
      ]
     },
     "execution_count": 41,
     "metadata": {},
     "output_type": "execute_result"
    }
   ],
   "source": [
    "sns.distplot(edgelist['combinedscore'])\n",
    "plt.show()\n",
    "edgelist['combinedscore'].describe()"
   ]
  },
  {
   "cell_type": "markdown",
   "metadata": {
    "_uuid": "358b7ff98f1cc73df95b9ecac1ac4c45e2ea794e"
   },
   "source": [
    "Basic \"almost\" complete graph showing the which teams play which teams. Arrow will point to winner"
   ]
  },
  {
   "cell_type": "code",
   "execution_count": 42,
   "metadata": {
    "_uuid": "855cbd91bb9121c24c700e77879cf355d1942b77"
   },
   "outputs": [
    {
     "data": {
      "image/png": "[encoded data removed]",
      "text/plain": [
       "<matplotlib.figure.Figure at 0x276f4384198>"
      ]
     },
     "metadata": {},
     "output_type": "display_data"
    }
   ],
   "source": [
    "nx.draw_circular(Car,node_size=0, alpha=0.7, edge_color='b', font_size=16, with_labels=True,arrowstyle='-|>', arrowsize=20,  arrows=True)\n",
    "plt.axis('equal')\n",
    "plt.show()"
   ]
  },
  {
   "cell_type": "markdown",
   "metadata": {
    "_uuid": "7de7b14b49ad87d5746bd41d126980358fd160b3"
   },
   "source": [
    "Win triangles. If a team beat an opponent and the opponent beat the second opennet that the first team will beat the second opennet."
   ]
  },
  {
   "cell_type": "markdown",
   "metadata": {
    "_uuid": "c97bd6e54580680964377f4e76e60f969a158b7c"
   },
   "source": [
    "First, the random games are selected to be tested. They are assigned an \"A\" instead of \"Y\"/\"N\" for the homewin prediction variable. The games selected games have to taken place after a certain week to gather enough seasonal matchup data to accurately predict. "
   ]
  },
  {
   "cell_type": "code",
   "execution_count": 43,
   "metadata": {
    "_uuid": "6df8ac6226fc751ce4204484f9a5b07840108584"
   },
   "outputs": [],
   "source": [
    "for (u, v) in C.edges():\n",
    "    if C[u][v]['nflweek']>10:\n",
    "        if random.random() > .8:\n",
    "            C[u][v].update({'homewin':'A'})\n",
    "            C[u][v].update({'tested edge':1})"
   ]
  },
  {
   "cell_type": "markdown",
   "metadata": {
    "_uuid": "68c473e580b5958edbe1214a554ad6402d2dd48b"
   },
   "source": [
    "Network analysis, looking at if "
   ]
  },
  {
   "cell_type": "code",
   "execution_count": 44,
   "metadata": {
    "_uuid": "b733f3937e54765132a8f4db101a3de6c1e56e64"
   },
   "outputs": [],
   "source": [
    "def predwintriangles(C):\n",
    "    hw=0\n",
    "    hww=0\n",
    "    hwww=0\n",
    "    hwwl=0\n",
    "    for n1 in C.nodes: \n",
    "        neighbors1 = set(C.neighbors(n1))\n",
    "        for n2 in neighbors1: \n",
    "            neighbors2 = set(C.neighbors(n2)) \n",
    "            common = list(neighbors1 & neighbors2)\n",
    "            #add in Thursday night home team win\n",
    "            if C.edges[(n1,n2)]['homewin']== 'A':\n",
    "                if C.edges[(n1,n2)]['day']== 3:\n",
    "                    if (C.edges[(n1,n2)]['homeoffrank'] + 10)< C.edges[(n1,n2)]['awayoffrank']:\n",
    "                        C[n1][n2].update({'homewin':'Y'}) \n",
    "            if C.edges[(n1,n2)]['homewin']== 'Y':\n",
    "                #print(n1,n2)\n",
    "                #print(C[n1][n2])\n",
    "                hw=hw+1\n",
    "                #print(hw)\n",
    "                for n3 in common:\n",
    "                    if C.edges[(n2,n3)]['homewin']== 'Y':\n",
    "                        hww=hww+1\n",
    "                        if C.edges[(n1,n3)]['homewin']== 'A':\n",
    "                            if (C.edges[(n1,n2)]['homeoffrank'] + 10)< C.edges[(n1,n3)]['awayoffrank']:\n",
    "                                C[n1][n3].update({'homewin':'Y'})\n",
    "                                hwww=hwww+1\n",
    "    #print(hw)"
   ]
  },
  {
   "cell_type": "code",
   "execution_count": 45,
   "metadata": {
    "_uuid": "a7bda5c57d93ab52272e409cc56d6d6c9c42eb89"
   },
   "outputs": [],
   "source": [
    "predwintriangles(C)"
   ]
  },
  {
   "cell_type": "code",
   "execution_count": 46,
   "metadata": {
    "_uuid": "45e255f5febfda079552611442de79180e21ed8a"
   },
   "outputs": [],
   "source": [
    "df = nx.to_pandas_edgelist(C,'away','home')\n",
    "#df.head()"
   ]
  },
  {
   "cell_type": "code",
   "execution_count": 47,
   "metadata": {
    "_uuid": "f8509f8b9fedf1f18ad35d9a464821278f60be1c"
   },
   "outputs": [
    {
     "data": {
      "text/plain": [
       "74"
      ]
     },
     "execution_count": 47,
     "metadata": {},
     "output_type": "execute_result"
    }
   ],
   "source": [
    "#testing line to make sure games were seeded\n",
    "df[df[\"tested edge\"] ==1 ].sum()[\"tested edge\"]"
   ]
  },
  {
   "cell_type": "code",
   "execution_count": 48,
   "metadata": {
    "_uuid": "52d6bfbdf0026a8333b3a5e6f635ce4d79465f43"
   },
   "outputs": [
    {
     "data": {
      "text/plain": [
       "0.6944444444444444"
      ]
     },
     "execution_count": 48,
     "metadata": {},
     "output_type": "execute_result"
    }
   ],
   "source": [
    "#filter dataframe on games that were predicted\n",
    "df=df[(df.homewin != 'A') & (df[\"tested edge\"] == 1)]\n",
    "df[\"tested correct\"]=np.where(df['homewin']==df['predhomewin'],1,0)\n",
    "(df[df[\"tested correct\"]== 1].sum()[\"tested correct\"])/(df[df[\"tested edge\"]== 1].sum()[\"tested edge\"])"
   ]
  },
  {
   "cell_type": "markdown",
   "metadata": {
    "_uuid": "a18fd1a457c0d11ae36cf9a61f9200124adf3aaa"
   },
   "source": [
    "Result data. Ran five random sample runs for each iteration of the model, the output was the number of predicted correctly games divided by the number of predicted games. "
   ]
  },
  {
   "cell_type": "code",
   "execution_count": null,
   "metadata": {
    "_uuid": "7b31d423cbd4b9d6cdaba0d0d4978c260e07d57c"
   },
   "outputs": [],
   "source": [
    "#Basic Triads\n",
    "#1st run 0.54\n",
    "#2nd run 0.62\n",
    "#3rd run 0.58\n",
    "#4th run 0.525\n",
    "#5th run 0.62\n",
    "#average \n",
    "\n",
    "#Add Thursday logic add\n",
    "#1st run 0.64\n",
    "#2nd run 0.54\n",
    "#3rd run 0.53\n",
    "#4th run 0.62\n",
    "#5th run 0.62\n",
    "#average \n",
    "\n",
    "#Thursday + thursday offensive rank\n",
    "#1st run 0.54\n",
    "#2nd run 0.55\n",
    "#3rd run 0.62\n",
    "#4th run 0.51\n",
    "#5th run 0.58\n",
    "#average \n",
    "\n",
    "#Thursday + thursday offensive rank with 10 rank buffer\n",
    "#1st run 0.64\n",
    "#2nd run 0.66\n",
    "#3rd run 0.65\n",
    "#4th run 0.62\n",
    "#5th run 0.64\n",
    "#average \n",
    "\n",
    "#added 10 rank buffer on triad logic\n",
    "#1st run 0.83\n",
    "#2nd run 0.69\n",
    "#3rd run 0.79\n",
    "#4th run 0.65\n",
    "#5th run 0.76\n",
    "#average 0.744\n"
   ]
  },
  {
   "cell_type": "markdown",
   "metadata": {
    "_uuid": "8da0b6e6299766b2369b20b695cf886a6037d4ef"
   },
   "source": [
    "Implement basic machine learning and classifers. To have a baseline to compare the triad logic to."
   ]
  },
  {
   "cell_type": "code",
   "execution_count": 49,
   "metadata": {
    "_uuid": "73d4f05eb1d460bdac255717e49251a6e8d0c412"
   },
   "outputs": [],
   "source": [
    "#encode text variables to numerical\n",
    "a=LabelEncoder()\n",
    "column = ['home','away','homewin','date']\n",
    "for col_name in column:\n",
    "    edgelist[col_name] = a.fit_transform(edgelist[col_name].astype('str'))"
   ]
  },
  {
   "cell_type": "code",
   "execution_count": 50,
   "metadata": {
    "_uuid": "5ab7814b5e267ddc7be732932dccfd5ad0a99c3c"
   },
   "outputs": [
    {
     "data": {
      "text/html": [
       "<div>\n",
       "<style>\n",
       "    .dataframe thead tr:only-child th {\n",
       "        text-align: right;\n",
       "    }\n",
       "\n",
       "    .dataframe thead th {\n",
       "        text-align: left;\n",
       "    }\n",
       "\n",
       "    .dataframe tbody tr th {\n",
       "        vertical-align: top;\n",
       "    }\n",
       "</style>\n",
       "<table border=\"1\" class=\"dataframe\">\n",
       "  <thead>\n",
       "    <tr style=\"text-align: right;\">\n",
       "      <th></th>\n",
       "      <th>home</th>\n",
       "      <th>away</th>\n",
       "      <th>Season</th>\n",
       "      <th>date</th>\n",
       "      <th>combinedscore</th>\n",
       "      <th>month</th>\n",
       "      <th>nflweek</th>\n",
       "      <th>day</th>\n",
       "      <th>homeoffrank</th>\n",
       "      <th>awayoffrank</th>\n",
       "    </tr>\n",
       "  </thead>\n",
       "  <tbody>\n",
       "    <tr>\n",
       "      <th>1977</th>\n",
       "      <td>2</td>\n",
       "      <td>18</td>\n",
       "      <td>2017</td>\n",
       "      <td>388</td>\n",
       "      <td>40</td>\n",
       "      <td>10</td>\n",
       "      <td>7</td>\n",
       "      <td>3</td>\n",
       "      <td>9.0</td>\n",
       "      <td>28.0</td>\n",
       "    </tr>\n",
       "    <tr>\n",
       "      <th>2184</th>\n",
       "      <td>8</td>\n",
       "      <td>33</td>\n",
       "      <td>2017</td>\n",
       "      <td>403</td>\n",
       "      <td>52</td>\n",
       "      <td>11</td>\n",
       "      <td>12</td>\n",
       "      <td>3</td>\n",
       "      <td>14.0</td>\n",
       "      <td>16.0</td>\n",
       "    </tr>\n",
       "    <tr>\n",
       "      <th>1310</th>\n",
       "      <td>2</td>\n",
       "      <td>4</td>\n",
       "      <td>2014</td>\n",
       "      <td>227</td>\n",
       "      <td>48</td>\n",
       "      <td>9</td>\n",
       "      <td>3</td>\n",
       "      <td>6</td>\n",
       "      <td>8.0</td>\n",
       "      <td>19.0</td>\n",
       "    </tr>\n",
       "    <tr>\n",
       "      <th>1102</th>\n",
       "      <td>33</td>\n",
       "      <td>8</td>\n",
       "      <td>2013</td>\n",
       "      <td>214</td>\n",
       "      <td>47</td>\n",
       "      <td>12</td>\n",
       "      <td>15</td>\n",
       "      <td>6</td>\n",
       "      <td>23.0</td>\n",
       "      <td>5.0</td>\n",
       "    </tr>\n",
       "    <tr>\n",
       "      <th>613</th>\n",
       "      <td>27</td>\n",
       "      <td>2</td>\n",
       "      <td>2011</td>\n",
       "      <td>116</td>\n",
       "      <td>48</td>\n",
       "      <td>12</td>\n",
       "      <td>14</td>\n",
       "      <td>6</td>\n",
       "      <td>6.0</td>\n",
       "      <td>12.0</td>\n",
       "    </tr>\n",
       "  </tbody>\n",
       "</table>\n",
       "</div>"
      ],
      "text/plain": [
       "      home  away  Season  date  combinedscore  month  nflweek  day  \\\n",
       "1977     2    18    2017   388             40     10        7    3   \n",
       "2184     8    33    2017   403             52     11       12    3   \n",
       "1310     2     4    2014   227             48      9        3    6   \n",
       "1102    33     8    2013   214             47     12       15    6   \n",
       "613     27     2    2011   116             48     12       14    6   \n",
       "\n",
       "      homeoffrank  awayoffrank  \n",
       "1977          9.0         28.0  \n",
       "2184         14.0         16.0  \n",
       "1310          8.0         19.0  \n",
       "1102         23.0          5.0  \n",
       "613           6.0         12.0  "
      ]
     },
     "execution_count": 50,
     "metadata": {},
     "output_type": "execute_result"
    }
   ],
   "source": [
    "#selecting what variables to use from the original dataframe\n",
    "new = edgelist[['home', 'away', 'Season','date','combinedscore','month','nflweek','day','homeoffrank','awayoffrank']].copy()\n",
    "#set dependent(Y) variable\n",
    "Y = edgelist['homewin']\n",
    "X = new\n",
    "#split dataset\n",
    "X_train, X_test, Y_train, Y_test = train_test_split(X, Y, random_state = 1)\n",
    "#verify\n",
    "X_train.head()"
   ]
  },
  {
   "cell_type": "code",
   "execution_count": 51,
   "metadata": {
    "_uuid": "9980158df14ea4ef8977f89337e321be8495964a"
   },
   "outputs": [],
   "source": [
    "#\n",
    "logreg = linear_model.LogisticRegression()\n",
    "logreg.fit(X_train, Y_train)\n",
    "logpredict = logreg.predict(X_test)"
   ]
  },
  {
   "cell_type": "code",
   "execution_count": 52,
   "metadata": {
    "_uuid": "d3817baaae19f75e2d66c7b27340cd3ad1b70d64"
   },
   "outputs": [
    {
     "name": "stdout",
     "output_type": "stream",
     "text": [
      "Logistic Regression Results\n",
      "  \n",
      "5-fold Cross Validation results\n",
      "  \n",
      "[ 0.70615034  0.6803653   0.68949772  0.64383562  0.68949772]\n",
      "  \n",
      "Accuracy\n",
      "  \n",
      "0.673357664234\n"
     ]
    }
   ],
   "source": [
    "print('Logistic Regression Results')\n",
    "print('  ')\n",
    "print('5-fold Cross Validation results')\n",
    "print('  ')\n",
    "print(cross_val_score(logreg, X, Y, cv=5))\n",
    "print('  ')\n",
    "print('Accuracy')\n",
    "print('  ')\n",
    "print(accuracy_score(Y_test, logpredict))\n",
    "\n"
   ]
  },
  {
   "cell_type": "markdown",
   "metadata": {
    "_uuid": "f5d33940fc93bf9fb5642b24b8c11962b1044392"
   },
   "source": [
    "**Appendix**"
   ]
  },
  {
   "cell_type": "code",
   "execution_count": null,
   "metadata": {
    "_uuid": "d7b7e7f4206421ae48eb466eb2671f345adc0b01"
   },
   "outputs": [],
   "source": [
    "def wintriangles(C):\n",
    "    hw=0\n",
    "    hww=0\n",
    "    hwww=0\n",
    "    hwwl=0\n",
    "    for n1 in C.nodes: \n",
    "        neighbors1 = set(C.neighbors(n1))\n",
    "        for n2 in neighbors1: \n",
    "            neighbors2 = set(C.neighbors(n2)) \n",
    "            common = list(neighbors1 & neighbors2)\n",
    "            if C.edges[(n1,n2)]['homewin']== 'Y':\n",
    "                print(n1,n2)\n",
    "                #print(C[n1][n2])\n",
    "                hw=hw+1\n",
    "                #print(hw)\n",
    "                for n3 in common:\n",
    "                    #print(n1,n2,n3)\n",
    "                    #print(C[n2][n3])\n",
    "                    if C.edges[(n2,n3)]['homewin']== 'Y':\n",
    "                        hww=hww+1\n",
    "                        if C.edges[(n1,n3)]['homewin']== 'Y':\n",
    "                            hwww=hwww+1\n",
    "                        else:\n",
    "                            hwwl=hwwl+1\n",
    "    print(hwww,hwwl)"
   ]
  },
  {
   "cell_type": "code",
   "execution_count": null,
   "metadata": {
    "_uuid": "0b260aa24e4f3e0e7ea89c7d5212ed4c85651fa5"
   },
   "outputs": [],
   "source": [
    "def printout(C):\n",
    "    for e1 in C.edges:\n",
    "        print(e1)"
   ]
  },
  {
   "cell_type": "code",
   "execution_count": null,
   "metadata": {
    "_uuid": "96750c16d8465e554c8717e5d8ff786c79080682"
   },
   "outputs": [],
   "source": [
    "#R scraping code:\n",
    "devtools::install_github(repo = \"maksimhorowitz/nflscrapR\")\n",
    "\n",
    "# This file generates charts summarizing the performances of teams in the\n",
    "# current NFL season using nflscrapR expected points and win probability.\n",
    "\n",
    "# Access tidyverse\n",
    "# install.packages(\"tidyverse\")\n",
    "library(tidyverse)\n",
    "library(rvest)\n",
    "\n",
    "# Pull season result data from nflscrapr github repo\n",
    "#pbp_18 <- read_csv(\"https://raw.githubusercontent.com/ryurko/nflscrapR-data/master/play_by_play_data/regular_season/reg_pbp_2018.csv\")\n",
    "\n",
    "games_09 <- read_csv(\"https://raw.githubusercontent.com/ryurko/nflscrapR-data/master/legacy_data/season_games/games_2009.csv\")\n",
    "games_10 <- read_csv(\"https://raw.githubusercontent.com/ryurko/nflscrapR-data/master/legacy_data/season_games/games_2010.csv\")\n",
    "games_11 <- read_csv(\"https://raw.githubusercontent.com/ryurko/nflscrapR-data/master/legacy_data/season_games/games_2011.csv\")\n",
    "games_12 <- read_csv(\"https://raw.githubusercontent.com/ryurko/nflscrapR-data/master/legacy_data/season_games/games_2012.csv\")\n",
    "games_13 <- read_csv(\"https://raw.githubusercontent.com/ryurko/nflscrapR-data/master/legacy_data/season_games/games_2013.csv\")\n",
    "games_14 <- read_csv(\"https://raw.githubusercontent.com/ryurko/nflscrapR-data/master/legacy_data/season_games/games_2014.csv\")\n",
    "games_15 <- read_csv(\"https://raw.githubusercontent.com/ryurko/nflscrapR-data/master/legacy_data/season_games/games_2015.csv\")\n",
    "games_16 <- read_csv(\"https://raw.githubusercontent.com/ryurko/nflscrapR-data/master/legacy_data/season_games/games_2016.csv\")\n",
    "games_17 <- read_csv(\"https://raw.githubusercontent.com/ryurko/nflscrapR-data/master/legacy_data/season_games/games_2017.csv\")\n",
    "\n",
    "#combine results into one dataframe\n",
    "gamestotal = rbind(games_09, games_10, games_11, games_12,games_13,games_14,games_15,games_16,games_17)\n",
    "gamestotal$winner <- ifelse(gamestotal$homeawaydiff > 0, gamestotal$home, gamestotal$away)\n",
    "gamestotal$loser <- ifelse(gamestotal$homeawaydiff < 0, gamestotal$home, gamestotal$away)\n",
    "gamestotal$homeawaydiff <- gamestotal$homescore - gamestotal$awayscore \n",
    "gamestotal$homekey <-paste0(gamestotal$home, gamestotal$Season)\n",
    "gamestotal$awaykey <-paste0(gamestotal$away, gamestotal$Season)\n",
    "gamestotal$totalpoints<-gamestotal$homescore + gamestotal$awayscore \n",
    "gamestotal$homewin<- ifelse(gamestotal$homeawaydiff > 0, 'Y', 'N')\n",
    "\n",
    "#stats per player per season\n",
    "passingstats <- read_csv(\"https://raw.githubusercontent.com/ryurko/nflscrapR-data/master/legacy_data/season_team_stats/team_season_passing_df.csv\")\n",
    "receivingstats <- read_csv(\"https://raw.githubusercontent.com/ryurko/nflscrapR-data/master/legacy_data/season_team_stats/team_season_receiving_df.csv\")\n",
    "rushingstats <- read_csv(\"https://raw.githubusercontent.com/ryurko/nflscrapR-data/master/legacy_data/season_team_stats/team_season_rushing_df.csv\")\n",
    "\n",
    "#stats per player per game\n",
    "gamepashingstats <- read_csv(\"https://raw.githubusercontent.com/ryurko/nflscrapR-data/master/legacy_data/game_team_stats/game_passing_df.csv\")\n",
    "gamerushingstats <- read_csv(\"https://raw.githubusercontent.com/ryurko/nflscrapR-data/master/legacy_data/game_team_stats/game_rushing_df.csv\")\n",
    "gamereceivingstats <- read_csv(\"https://raw.githubusercontent.com/ryurko/nflscrapR-data/master/legacy_data/game_team_stats/game_receiving_df.csv\")\n",
    "\n",
    "write.csv(gamestotal,\"nflgamestotal.csv\")\n",
    "\n",
    "#pull offensive stats tables from www.pro-football-reference.com\n",
    "\n",
    "offensivestats2017 <- \"https://www.pro-football-reference.com/years/2017/\" %>% read_html() %>% html_nodes(xpath = '//comment()') %>%    # select comments\n",
    "  html_text() %>%    # extract comment text\n",
    "  paste(collapse = '') %>%    # collapse to single string\n",
    "  read_html() %>%    # reread as HTML\n",
    "  html_node('table#team_stats') %>%    # select desired node\n",
    "  html_table() \n",
    "\n",
    "newname<-list(\"OffRk\",\"Tm\",\"G\",\"PF\",\"Yds\",\"Ply\",\"Y/P\",\"TO\",\"FL\",\"1st\",\"PassCmp\",\"PassAtt\",\"PassYds\",\"PassTD\",\n",
    "              \"PassInt\",\"PassNY/A\",\"Pass1stD\",\"RushAtt\",\"RushYds\",\"RushTD\",\"RushY/A\",\"Rush1stD\",\n",
    "              \"Pen\",\"PenYds\",\"Pen1stPy\",\"Sc%\",\"TO%\",\"EXP\")\n",
    "names(offensivestats2017)<-newname\n",
    "offensivestats2017 = offensivestats2017[-1,]\n",
    "offensivestats2017$season = 2017\n",
    "\n",
    "offensivestats2016 <- \"https://www.pro-football-reference.com/years/2016/\" %>% read_html() %>% html_nodes(xpath = '//comment()') %>%    # select comments\n",
    "  html_text() %>%    # extract comment text\n",
    "  paste(collapse = '') %>%    # collapse to single string\n",
    "  read_html() %>%    # reread as HTML\n",
    "  html_node('table#team_stats') %>%    # select desired node\n",
    "  html_table() \n",
    "\n",
    "names(offensivestats2016)<-newname\n",
    "offensivestats2016 = offensivestats2016[-1,]\n",
    "offensivestats2016$season = 2016\n",
    "\n",
    "offensivestats2015 <- \"https://www.pro-football-reference.com/years/2015/\" %>% read_html() %>% html_nodes(xpath = '//comment()') %>%    # select comments\n",
    "  html_text() %>%    # extract comment text\n",
    "  paste(collapse = '') %>%    # collapse to single string\n",
    "  read_html() %>%    # reread as HTML\n",
    "  html_node('table#team_stats') %>%    # select desired node\n",
    "  html_table() \n",
    "\n",
    "names(offensivestats2015)<-newname\n",
    "offensivestats2015 = offensivestats2015[-1,]\n",
    "offensivestats2015$season = 2015\n",
    "\n",
    "offensivestats2014 <- \"https://www.pro-football-reference.com/years/2014/\" %>% read_html() %>% html_nodes(xpath = '//comment()') %>%    # select comments\n",
    "  html_text() %>%    # extract comment text\n",
    "  paste(collapse = '') %>%    # collapse to single string\n",
    "  read_html() %>%    # reread as HTML\n",
    "  html_node('table#team_stats') %>%    # select desired node\n",
    "  html_table() \n",
    "\n",
    "names(offensivestats2014)<-newname\n",
    "offensivestats2014 = offensivestats2014[-1,]\n",
    "offensivestats2014$season = 2014\n",
    "\n",
    "offensivestats2013 <- \"https://www.pro-football-reference.com/years/2013/\" %>% read_html() %>% html_nodes(xpath = '//comment()') %>%    # select comments\n",
    "  html_text() %>%    # extract comment text\n",
    "  paste(collapse = '') %>%    # collapse to single string\n",
    "  read_html() %>%    # reread as HTML\n",
    "  html_node('table#team_stats') %>%    # select desired node\n",
    "  html_table() \n",
    "\n",
    "names(offensivestats2013)<-newname\n",
    "offensivestats2013 = offensivestats2013[-1,]\n",
    "offensivestats2013$season = 2013\n",
    "\n",
    "offensivestats2012 <- \"https://www.pro-football-reference.com/years/2012/\" %>% read_html() %>% html_nodes(xpath = '//comment()') %>%    # select comments\n",
    "  html_text() %>%    # extract comment text\n",
    "  paste(collapse = '') %>%    # collapse to single string\n",
    "  read_html() %>%    # reread as HTML\n",
    "  html_node('table#team_stats') %>%    # select desired node\n",
    "  html_table() \n",
    "\n",
    "names(offensivestats2012)<-newname\n",
    "offensivestats2012 = offensivestats2012[-1,]\n",
    "offensivestats2012$season = 2012\n",
    "\n",
    "offensivestats2011 <- \"https://www.pro-football-reference.com/years/2011/\" %>% read_html() %>% html_nodes(xpath = '//comment()') %>%    # select comments\n",
    "  html_text() %>%    # extract comment text\n",
    "  paste(collapse = '') %>%    # collapse to single string\n",
    "  read_html() %>%    # reread as HTML\n",
    "  html_node('table#team_stats') %>%    # select desired node\n",
    "  html_table() \n",
    "\n",
    "names(offensivestats2011)<-newname\n",
    "offensivestats2011 = offensivestats2011[-1,]\n",
    "offensivestats2011$season = 2011\n",
    "\n",
    "offensivestats2010 <- \"https://www.pro-football-reference.com/years/2010/\" %>% read_html() %>% html_nodes(xpath = '//comment()') %>%    # select comments\n",
    "  html_text() %>%    # extract comment text\n",
    "  paste(collapse = '') %>%    # collapse to single string\n",
    "  read_html() %>%    # reread as HTML\n",
    "  html_node('table#team_stats') %>%    # select desired node\n",
    "  html_table() \n",
    "\n",
    "names(offensivestats2010)<-newname\n",
    "offensivestats2010 = offensivestats2010[-1,]\n",
    "offensivestats2010$season = 2010\n",
    "\n",
    "offensivestats2009 <- \"https://www.pro-football-reference.com/years/2009/\" %>% read_html() %>% html_nodes(xpath = '//comment()') %>%    # select comments\n",
    "  html_text() %>%    # extract comment text\n",
    "  paste(collapse = '') %>%    # collapse to single string\n",
    "  read_html() %>%    # reread as HTML\n",
    "  html_node('table#team_stats') %>%    # select desired node\n",
    "  html_table() \n",
    "\n",
    "names(offensivestats2009)<-newname\n",
    "offensivestats2009 = offensivestats2009[-1,]\n",
    "offensivestats2009$season = 2009\n",
    "\n",
    "#combine offensive stats into one dataframe\n",
    "offensivetotal = rbind(offensivestats2009, offensivestats2010, offensivestats2011, offensivestats2012,\n",
    "                   offensivestats2013,offensivestats2014,offensivestats2015,offensivestats2016,offensivestats2017)\n",
    "\n",
    "write_csv(offensivetotal,\"nfloffensivetotal.csv\")\n",
    "\n",
    "results20152 <- \"https://www.pro-football-reference.com/years/2015/games.htm\" %>% read_html() %>% html_nodes(xpath = '//*[@id=\"games\"]') %>%    # select comments\n",
    "  html_text() %>%    # extract comment text\n",
    "  paste(collapse = '') %>%    # collapse to single string\n",
    "  read_html() %>%    # reread as HTML\n",
    "  html_node('table#games') %>%    # select desired node\n",
    "  html_table() \n",
    "\n",
    "//*[@id=\"games\"]\n",
    "\n",
    "#create edgelist to import into python networkx\n",
    "edgelist <- cbind(gamestotal$home,gamestotal$away,gamestotal$Season)\n",
    "edgelist <-as.data.frame(edgelist)\n",
    "edgenames<-list(\"winner\",\"loser\",\"season\")\n",
    "names(edgelist)<-edgenames\n",
    "write_csv(edgelist,\"nfledgelist.csv\")\n",
    "\n",
    "write_csv(gamestotal,\"nflgamestotal.csv\")\n",
    "\n"
   ]
  },
  {
   "cell_type": "markdown",
   "metadata": {
    "_uuid": "88d693d95c4e379f75ffdbaf2077a91e2269a9c1"
   },
   "source": [
    "FiveThirtyEight  2017 preditions website: https://projects.fivethirtyeight.com/2017-nfl-predictions/games/\n",
    "\n",
    "FiveThirtyEight  2017 preditions pivot table: https://docs.google.com/spreadsheets/d/1tyxEQ3ForQlcm2Si4vaPzQSZ9JH8_ZfT606RxE04aac/edit#gid=606939216\n",
    "\n",
    "Football's Outsiders Premium picks:\n",
    "2008 regular season: 147-73-1, .665\n",
    "2009 regular season: 163-93, .637\n",
    "2010 regular season: 165-91, .645\n",
    "2011 regular season: 164-92, .641\n",
    "2012 regular season: 171-84-1, .670\n",
    "2013 regular season: 171-84-1, .670\n",
    "2014 regular season: 162-93-1, .635\n",
    "2015 regular season: 153-103, .598"
   ]
  }
 ],
 "metadata": {
  "kernelspec": {
   "display_name": "Python 3",
   "language": "python",
   "name": "python3"
  },
  "language_info": {
   "codemirror_mode": {
    "name": "ipython",
    "version": 3
   },
   "file_extension": ".py",
   "mimetype": "text/x-python",
   "name": "python",
   "nbconvert_exporter": "python",
   "pygments_lexer": "ipython3",
   "version": "3.6.3"
  }
 },
 "nbformat": 4,
 "nbformat_minor": 2
}
